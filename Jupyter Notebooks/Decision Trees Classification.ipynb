{
 "cells": [
  {
   "cell_type": "code",
   "execution_count": 273,
   "id": "1ec7f2eb",
   "metadata": {},
   "outputs": [],
   "source": [
    "import numpy as np\n",
    "from sklearn import metrics\n",
    "from sklearn.model_selection import train_test_split\n",
    "from sklearn import tree\n",
    "import pandas as pd\n",
    "\n",
    "import matplotlib.pyplot as plt\n",
    "from matplotlib.colors import ListedColormap\n",
    "%matplotlib inline\n",
    "plt.rcParams['figure.figsize'] = (10, 6)\n",
    "plt.style.use('ggplot')\n",
    "\n",
    "from IPython.display import Image, display  \n",
    "import pydotplus \n",
    "from scipy import misc\n",
    "\n",
    "import graphviz\n",
    "from sklearn.preprocessing import scale\n",
    "\n",
    "from sklearn.linear_model import LogisticRegression\n",
    "from sklearn.neighbors import KNeighborsClassifier\n",
    "from sklearn import metrics"
   ]
  },
  {
   "cell_type": "code",
   "execution_count": 274,
   "id": "7aa262da",
   "metadata": {},
   "outputs": [],
   "source": [
    "data = pd.read_excel('Complete Combined Files .xlsx')"
   ]
  },
  {
   "cell_type": "markdown",
   "id": "6809d7f6",
   "metadata": {},
   "source": [
    "### Decision Trees"
   ]
  },
  {
   "cell_type": "code",
   "execution_count": 275,
   "id": "d17a7704",
   "metadata": {},
   "outputs": [],
   "source": [
    "X = data.drop(columns = ['RK','TEAM','CONF', 'R64','R32', 'S16', 'E8', 'F4', 'F2', 'CHAMP'], axis = 1)\n",
    "y = data['R32']"
   ]
  },
  {
   "cell_type": "markdown",
   "id": "41cebc0d",
   "metadata": {},
   "source": [
    "#### Second Round "
   ]
  },
  {
   "cell_type": "code",
   "execution_count": 692,
   "id": "e4648487",
   "metadata": {
    "scrolled": true
   },
   "outputs": [
    {
     "name": "stdout",
     "output_type": "stream",
     "text": [
      "number of correcly predicted teams = 86\n",
      "number of predicted teams = 173\n",
      "Accuracy on test data = 93.642 %\n"
     ]
    }
   ],
   "source": [
    "indicies = np.arange(192) \n",
    "X_Train, X_Test, y_Train, y_Test, indicies_train, indicies_test = train_test_split(X, y, indicies, random_state = 3, test_size = 0.9)\n",
    "\n",
    "decisionTree = tree.DecisionTreeClassifier(max_depth = 0.7, min_samples_split = 10)\n",
    "decisionTree = decisionTree.fit(X_Train, y_Train)\n",
    "\n",
    "y_pred_test = decisionTree.predict(X_Test)\n",
    "y_pred_train = decisionTree.predict(X_Train)\n",
    "\n",
    "index = []\n",
    "for i in range(len(y_pred_test)): \n",
    "    index.append(indicies_test[i])   \n",
    "\n",
    "predicted_teams_real_outcome = data.iloc[index]['R32']\n",
    "\n",
    "correctly_predicted_teams =  predicted_teams_real_outcome == y_pred_test \n",
    "\n",
    "print('number of correcly predicted teams =', sum(correctly_predicted_teams))\n",
    "print('number of predicted teams =', len(y_pred_test))\n",
    "print('Accuracy on test data = {:.3f}'.format(metrics.accuracy_score(y_true = y_Test, y_pred = y_pred_test)*100), '%')"
   ]
  },
  {
   "cell_type": "markdown",
   "id": "bb72eec5",
   "metadata": {},
   "source": [
    "#### Sweet 16"
   ]
  },
  {
   "cell_type": "code",
   "execution_count": 277,
   "id": "99e012be",
   "metadata": {},
   "outputs": [],
   "source": [
    "y = data['S16']"
   ]
  },
  {
   "cell_type": "code",
   "execution_count": 695,
   "id": "bce2ab21",
   "metadata": {},
   "outputs": [
    {
     "name": "stdout",
     "output_type": "stream",
     "text": [
      "number of correcly predicted teams = 130\n",
      "number of predicted teams = 173\n",
      "Accuracy on test data = 93.642 %\n"
     ]
    }
   ],
   "source": [
    "indicies = np.arange(192) \n",
    "X_Train, X_Test, y_Train, y_Test, indicies_train, indicies_test = train_test_split(X, y, indicies, random_state = 3, test_size = 0.9)\n",
    "\n",
    "decisionTree = tree.DecisionTreeClassifier(max_depth = 0.7, min_samples_split = 10)\n",
    "decisionTree = decisionTree.fit(X_Train, y_Train)\n",
    "\n",
    "y_pred_test = decisionTree.predict(X_Test)\n",
    "y_pred_train = decisionTree.predict(X_Train)\n",
    "\n",
    "index = []\n",
    "for i in range(len(y_pred_test)): \n",
    "    index.append(indicies_test[i])   \n",
    "\n",
    "predicted_teams_real_outcome = data.iloc[index]['S16']\n",
    "\n",
    "correctly_predicted_teams =  predicted_teams_real_outcome == y_pred_test \n",
    "\n",
    "print('number of correcly predicted teams =',sum(correctly_predicted_teams))\n",
    "print('number of predicted teams =',len(y_pred_test))\n",
    "print('Accuracy on test data = {:.3f}'.format(metrics.accuracy_score(y_true = y_Test, y_pred = y_pred_test)*100), '%')"
   ]
  },
  {
   "cell_type": "markdown",
   "id": "a5522433",
   "metadata": {},
   "source": [
    "#### Elite 8"
   ]
  },
  {
   "cell_type": "code",
   "execution_count": 279,
   "id": "c00a06a9",
   "metadata": {},
   "outputs": [],
   "source": [
    "y = data['E8']"
   ]
  },
  {
   "cell_type": "code",
   "execution_count": 697,
   "id": "4738c331",
   "metadata": {},
   "outputs": [
    {
     "name": "stdout",
     "output_type": "stream",
     "text": [
      "sum of the correctly predicted teams 86\n",
      "sum of the predicted teams real outcome: 87\n",
      "number of predicted teams = 173\n",
      "Accuracy on test data = 93.64 %\n"
     ]
    }
   ],
   "source": [
    "indicies = np.arange(192) \n",
    "X_Train, X_Test, y_Train, y_Test, indicies_train, indicies_test = train_test_split(X, y, indicies, random_state = 3, test_size = 0.9)\n",
    "\n",
    "decisionTree = tree.DecisionTreeClassifier(max_depth = 0.7, min_samples_split = 10)\n",
    "decisionTree = decisionTree.fit(X_Train, y_Train)\n",
    "\n",
    "y_pred_test = decisionTree.predict(X_Test)\n",
    "y_pred_train = decisionTree.predict(X_Train)\n",
    "\n",
    "index = []\n",
    "for i in range(len(y_pred_test)): \n",
    "    index.append(indicies_test[i])   \n",
    "\n",
    "predicted_teams_real_outcome = data.iloc[index]['R32']\n",
    "\n",
    "correctly_predicted_teams =  predicted_teams_real_outcome == y_pred_test \n",
    "\n",
    "print('sum of the correctly predicted teams', sum(correctly_predicted_teams))\n",
    "\n",
    "#print(list(predicted_teams_real_outcome) )\n",
    "print('sum of the predicted teams real outcome:', sum(predicted_teams_real_outcome))\n",
    "print('number of predicted teams =',len(y_pred_test))\n",
    "print('Accuracy on test data = {:.2f}'.format(metrics.accuracy_score(y_true = y_Test, y_pred = y_pred_test)*100), '%')"
   ]
  },
  {
   "cell_type": "markdown",
   "id": "2306fe35",
   "metadata": {},
   "source": [
    "### KNN "
   ]
  },
  {
   "cell_type": "markdown",
   "id": "7c751453",
   "metadata": {},
   "source": [
    "#### Second Round"
   ]
  },
  {
   "cell_type": "code",
   "execution_count": 698,
   "id": "46106c10",
   "metadata": {
    "scrolled": true
   },
   "outputs": [
    {
     "name": "stdout",
     "output_type": "stream",
     "text": [
      "sum of correctly predicted teams (how many there are): 74\n",
      "length of the predicted variable: 96\n",
      "Accuracy on test data = 77.08 %\n"
     ]
    }
   ],
   "source": [
    "X = data.drop(columns = ['RK','TEAM','CONF', 'R64','R32', 'S16', 'E8', 'F4', 'F2', 'CHAMP'], axis = 1)\n",
    "y = data['R32']\n",
    "indicies = np.arange(192) \n",
    "X_Train, X_Test, y_Train, y_Test, indicies_train, indicies_test = train_test_split(X, y, indicies, random_state = 3, test_size = 0.5)\n",
    "\n",
    "model = KNeighborsClassifier(n_neighbors = 5) \n",
    "model.fit(X_Train, y_Train)\n",
    "y_pred = model.predict(X_Test)\n",
    "\n",
    "index = []\n",
    "for i in range(len(y_pred)): \n",
    "    index.append(indicies_test[i])   \n",
    "\n",
    "predicted_teams_real_outcome = data.iloc[index]['R32']\n",
    "\n",
    "correctly_predicted_teams =  predicted_teams_real_outcome == y_pred\n",
    "\n",
    "print('sum of correctly predicted teams (how many there are):' ,sum(correctly_predicted_teams))\n",
    "print('length of the predicted variable:', len(y_pred))\n",
    "print('Accuracy on test data = {:.2f}'.format(metrics.accuracy_score(y_true = y_Test, y_pred = y_pred)*100), '%')\n",
    "\n"
   ]
  },
  {
   "cell_type": "markdown",
   "id": "8f1ee765",
   "metadata": {},
   "source": [
    "#### Sweet 16"
   ]
  },
  {
   "cell_type": "code",
   "execution_count": 699,
   "id": "ab7c7eb9",
   "metadata": {},
   "outputs": [
    {
     "name": "stdout",
     "output_type": "stream",
     "text": [
      "sum of correctly predicted teams (how many there are): 72\n",
      "length of the predicted variable: 96\n",
      "Accuracy on test data = 75.00 %\n"
     ]
    }
   ],
   "source": [
    "y =  data['S16']\n",
    "\n",
    "indicies = np.arange(192) \n",
    "X_Train, X_Test, y_Train, y_Test, indicies_train, indicies_test = train_test_split(X, y, indicies, random_state = 3, test_size = 0.5)\n",
    "\n",
    "model = KNeighborsClassifier(n_neighbors = 5) \n",
    "model.fit(X_Train, y_Train)\n",
    "y_pred = model.predict(X_Test)\n",
    "\n",
    "index = []\n",
    "for i in range(len(y_pred)): \n",
    "    index.append(indicies_test[i])   \n",
    "\n",
    "predicted_teams_real_outcome = data.iloc[index]['S16']\n",
    "\n",
    "correctly_predicted_teams =  predicted_teams_real_outcome == y_pred\n",
    "\n",
    "print('sum of correctly predicted teams (how many there are):' ,sum(correctly_predicted_teams))\n",
    "print('length of the predicted variable:', len(y_pred))\n",
    "print('Accuracy on test data = {:.2f}'.format(metrics.accuracy_score(y_true = y_Test, y_pred = y_pred)*100), '%')"
   ]
  },
  {
   "cell_type": "markdown",
   "id": "22485000",
   "metadata": {},
   "source": [
    "#### Elite 8"
   ]
  },
  {
   "cell_type": "code",
   "execution_count": 700,
   "id": "4e7eb619",
   "metadata": {},
   "outputs": [
    {
     "name": "stdout",
     "output_type": "stream",
     "text": [
      "sum of correctly predicted teams (how many there are): 77\n",
      "length of the predicted variable: 96\n",
      "Accuracy on test data = 80.21 %\n"
     ]
    }
   ],
   "source": [
    "y = data['E8']\n",
    "\n",
    "indicies = np.arange(192) \n",
    "X_Train, X_Test, y_Train, y_Test, indicies_train, indicies_test = train_test_split(X, y, indicies, random_state = 3, test_size = 0.5)\n",
    "\n",
    "model = KNeighborsClassifier(n_neighbors = 5) \n",
    "model.fit(X_Train, y_Train)\n",
    "y_pred = model.predict(X_Test)\n",
    "\n",
    "index = []\n",
    "for i in range(len(y_pred)): \n",
    "    index.append(indicies_test[i])   \n",
    "\n",
    "predicted_teams_real_outcome = data.iloc[index]['E8']\n",
    "\n",
    "correctly_predicted_teams =  predicted_teams_real_outcome == y_pred\n",
    "\n",
    "print('sum of correctly predicted teams (how many there are):' ,sum(correctly_predicted_teams))\n",
    "print('length of the predicted variable:', len(y_pred))\n",
    "print('Accuracy on test data = {:.2f}'.format(metrics.accuracy_score(y_true = y_Test, y_pred = y_pred)*100), '%')"
   ]
  },
  {
   "cell_type": "markdown",
   "id": "c10468a4",
   "metadata": {},
   "source": [
    "#### Final 4"
   ]
  },
  {
   "cell_type": "code",
   "execution_count": 701,
   "id": "18455f22",
   "metadata": {
    "scrolled": true
   },
   "outputs": [
    {
     "name": "stdout",
     "output_type": "stream",
     "text": [
      "sum of correctly predicted teams (how many there are): 89\n",
      "length of the predicted variable: 96\n",
      "Accuracy on test data = 92.71 %\n"
     ]
    }
   ],
   "source": [
    "y = data['F4']\n",
    "indicies = np.arange(192) \n",
    "X_Train, X_Test, y_Train, y_Test, indicies_train, indicies_test = train_test_split(X, y, indicies, random_state = 3, test_size = 0.5)\n",
    "\n",
    "model = KNeighborsClassifier(n_neighbors = 5) \n",
    "model.fit(X_Train, y_Train)\n",
    "y_pred = model.predict(X_Test)\n",
    "\n",
    "index = []\n",
    "for i in range(len(y_pred)): \n",
    "    index.append(indicies_test[i])   \n",
    "\n",
    "predicted_teams_real_outcome = data.iloc[index]['F4']\n",
    "\n",
    "correctly_predicted_teams =  predicted_teams_real_outcome == y_pred\n",
    "\n",
    "print('sum of correctly predicted teams (how many there are):' ,sum(correctly_predicted_teams))\n",
    "print('length of the predicted variable:', len(y_pred))\n",
    "print('Accuracy on test data = {:.2f}'.format(metrics.accuracy_score(y_true = y_Test, y_pred = y_pred)*100), '%')"
   ]
  },
  {
   "cell_type": "markdown",
   "id": "1b1966ab",
   "metadata": {},
   "source": [
    "### Using KNN On 2024 Data"
   ]
  },
  {
   "cell_type": "code",
   "execution_count": 704,
   "id": "e95c4f89",
   "metadata": {},
   "outputs": [],
   "source": [
    "data_2024 = pd.read_csv('2024 Final Total Data.csv')"
   ]
  },
  {
   "cell_type": "markdown",
   "id": "0fd89f9b",
   "metadata": {},
   "source": [
    "#### Second Round"
   ]
  },
  {
   "cell_type": "code",
   "execution_count": 705,
   "id": "c595d685",
   "metadata": {},
   "outputs": [],
   "source": [
    "XTrain = data.drop(columns = ['RK','TEAM','CONF', 'R64','R32', 'S16', 'E8', 'F4', 'F2', 'CHAMP'], axis = 1)\n",
    "XTest = data_2024.drop(columns = ['RK','TEAM','CONF', 'R64','R32', 'S16', 'E8', 'F4', 'F2', 'CHAMP'], axis = 1)\n",
    "yTrain = data['R32']\n",
    "yTest = data_2024['R32']"
   ]
  },
  {
   "cell_type": "code",
   "execution_count": 706,
   "id": "eac35cca",
   "metadata": {},
   "outputs": [],
   "source": [
    "model = KNeighborsClassifier(n_neighbors = 1)\n",
    "model.fit(XTrain, yTrain)\n",
    "y_pred = model.predict(XTest)"
   ]
  },
  {
   "cell_type": "code",
   "execution_count": 707,
   "id": "62521bd0",
   "metadata": {},
   "outputs": [
    {
     "name": "stdout",
     "output_type": "stream",
     "text": [
      "Accuracy on test data = 68.75 %\n"
     ]
    }
   ],
   "source": [
    "print('Accuracy on test data = {:.2f}'.format(metrics.accuracy_score(y_true = yTest, y_pred = y_pred)*100), '%')"
   ]
  },
  {
   "cell_type": "code",
   "execution_count": 708,
   "id": "6388639a",
   "metadata": {},
   "outputs": [],
   "source": [
    "predicted_winners = []\n",
    "for i in range(len(y_pred)):\n",
    "    if y_pred[i] == 1: \n",
    "        predicted_winners.append(i)\n",
    "        \n",
    "len(predicted_winners)\n",
    "\n",
    "predicted_teams = []\n",
    "\n",
    "for j in range(len(data_2024)):\n",
    "    for i in predicted_winners: \n",
    "        if j == i: \n",
    "            predicted_teams.append(data_2024['TEAM'][j])\n",
    "            \n",
    "predicted_teams\n",
    "\n",
    "\n",
    "actual_winners = [] \n",
    "\n",
    "for i in range(len(yTest)): \n",
    "    if yTest[i] == 1: \n",
    "        actual_winners.append(i)\n",
    "        \n",
    "actual_teams = [] \n",
    "for j in range(len(data_2024)): \n",
    "    for i in actual_winners: \n",
    "        if j == i: \n",
    "            actual_teams.append(data_2024['TEAM'][j])"
   ]
  },
  {
   "cell_type": "code",
   "execution_count": 709,
   "id": "286d445c",
   "metadata": {},
   "outputs": [
    {
     "name": "stdout",
     "output_type": "stream",
     "text": [
      "Teams that were predicted:\n",
      " ['Alabama', 'Auburn', 'Baylor', 'BYU', 'Clemson', 'Colorado', 'Connecticut', 'Creighton', 'Dayton', 'Duke', 'Duquesne', 'Florida', 'Florida Atlantic', 'Gonzaga', 'Houston', 'Illinois', 'Iowa St.', 'James Madison', 'Marquette', 'Michigan St.', 'Nebraska', 'New Mexico', 'Northwestern', 'Oakland', \"Saint Mary's\", 'San Diego St.', 'TCU', 'Tennessee', 'Texas', 'Texas Tech', 'Utah St.', 'Wisconsin']\n",
      "\n",
      "Teams that actually made it:\n",
      " ['Alabama', 'Arizona', 'Baylor', 'Clemson', 'Colorado', 'Connecticut', 'Creighton', 'Dayton', 'Duke', 'Duquesne', 'Gonzaga', 'Grand Canyon', 'Houston', 'Illinois', 'Iowa St.', 'James Madison', 'Kansas', 'Marquette', 'Michigan St.', 'North Carolina', 'North Carolina St.', 'Northwestern', 'Oakland', 'Oregon', 'Purdue', 'San Diego St.', 'Tennessee', 'Texas', 'Texas A&M', 'Utah St.', 'Washington St.', 'Yale']\n",
      "\n",
      "check to see how many teams it predicted: 32\n",
      "\n",
      "how many teams there actually are: 32\n"
     ]
    }
   ],
   "source": [
    "print('Teams that were predicted:\\n' , predicted_teams)\n",
    "print()\n",
    "print('Teams that actually made it:\\n', actual_teams)\n",
    "print()\n",
    "print('check to see how many teams it predicted:', len(predicted_teams))\n",
    "print() \n",
    "print('how many teams there actually are:', len(actual_teams))"
   ]
  },
  {
   "cell_type": "markdown",
   "id": "0782c747",
   "metadata": {},
   "source": [
    "#### Sweet 16"
   ]
  },
  {
   "cell_type": "code",
   "execution_count": 710,
   "id": "270c8641",
   "metadata": {},
   "outputs": [],
   "source": [
    "sweet16 = data_2024.loc[predicted_winners]\n",
    "sweet16 = sweet16.reset_index()\n",
    "y_Train = data['S16']\n",
    "y_Test = sweet16['S16']\n",
    "X_Test = sweet16.drop(columns = ['RK','TEAM','CONF', 'R64','R32', 'S16', 'E8', 'F4', 'F2', 'CHAMP', 'index'], axis = 1)\n",
    "#XTrain, X_Test = scale(XTrain), scale(X_Test)"
   ]
  },
  {
   "cell_type": "code",
   "execution_count": 711,
   "id": "53e7d091",
   "metadata": {},
   "outputs": [],
   "source": [
    "model = KNeighborsClassifier(n_neighbors = 1)\n",
    "model.fit(XTrain, y_Train)\n",
    "y_pred = model.predict(X_Test)"
   ]
  },
  {
   "cell_type": "code",
   "execution_count": 712,
   "id": "4e8f090d",
   "metadata": {},
   "outputs": [
    {
     "name": "stdout",
     "output_type": "stream",
     "text": [
      "Accuracy on test data = 62.50 %\n"
     ]
    }
   ],
   "source": [
    "print('Accuracy on test data = {:.2f}'.format(metrics.accuracy_score(y_true = y_Test, y_pred = y_pred)*100), '%')"
   ]
  },
  {
   "cell_type": "code",
   "execution_count": 715,
   "id": "94bcd9ba",
   "metadata": {},
   "outputs": [
    {
     "name": "stdout",
     "output_type": "stream",
     "text": [
      "teams that were predicted:\n",
      " ['Auburn', 'Clemson', 'Colorado', 'Connecticut', 'Duke', 'Florida Atlantic', 'Gonzaga', 'Illinois', 'Iowa St.', 'Nebraska', 'Northwestern', 'Tennessee', 'Texas Tech', 'Wisconsin']\n"
     ]
    }
   ],
   "source": [
    "predicted_winners = []\n",
    "for i in range(len(y_pred)):\n",
    "    if y_pred[i] == 1: \n",
    "        predicted_winners.append(i)\n",
    "        \n",
    "len(predicted_winners)\n",
    "\n",
    "predicted_teams = []\n",
    "\n",
    "for j in range(len(sweet16)):\n",
    "    for i in predicted_winners: \n",
    "        if j == i: \n",
    "            predicted_teams.append(sweet16['TEAM'][j])\n",
    "            \n",
    "print('teams that were predicted:\\n', list(predicted_teams))"
   ]
  },
  {
   "cell_type": "markdown",
   "id": "8316b228",
   "metadata": {},
   "source": [
    "#### Elite 8 "
   ]
  },
  {
   "cell_type": "code",
   "execution_count": 716,
   "id": "8d90d1a4",
   "metadata": {},
   "outputs": [],
   "source": [
    "elite8 = sweet16.loc[predicted_winners]\n",
    "elite8 = elite8.reset_index() \n",
    "y_Train = data['E8']\n",
    "y_Test = elite8['E8']\n",
    "X_Test = elite8.drop(columns = ['RK','TEAM','CONF', 'R64','R32', 'S16', 'E8', 'F4', 'F2', 'CHAMP', 'index', 'level_0'], axis = 1)"
   ]
  },
  {
   "cell_type": "code",
   "execution_count": 717,
   "id": "e99bc814",
   "metadata": {},
   "outputs": [],
   "source": [
    "model = KNeighborsClassifier(n_neighbors = 1)\n",
    "model.fit(XTrain, y_Train)\n",
    "y_pred = model.predict(X_Test)"
   ]
  },
  {
   "cell_type": "code",
   "execution_count": 718,
   "id": "06c31667",
   "metadata": {},
   "outputs": [
    {
     "name": "stdout",
     "output_type": "stream",
     "text": [
      "Accuracy on test data = 64.29 %\n"
     ]
    }
   ],
   "source": [
    "print('Accuracy on test data = {:.2f}'.format(metrics.accuracy_score(y_true = y_Test, y_pred = y_pred)*100), '%')"
   ]
  },
  {
   "cell_type": "code",
   "execution_count": 721,
   "id": "23f07589",
   "metadata": {},
   "outputs": [
    {
     "name": "stdout",
     "output_type": "stream",
     "text": [
      "confusion matrix: \n",
      " [[5 4]\n",
      " [1 4]]\n",
      "\n",
      "teams that were predicted:\n",
      " ['Auburn', 'Connecticut', 'Duke', 'Florida Atlantic', 'Gonzaga', 'Illinois', 'Iowa St.', 'Tennessee']\n"
     ]
    }
   ],
   "source": [
    "predicted_winners = []\n",
    "for i in range(len(y_pred)):\n",
    "    if y_pred[i] == 1: \n",
    "        predicted_winners.append(i)\n",
    "        \n",
    "len(predicted_winners)\n",
    "\n",
    "predicted_teams = []\n",
    "\n",
    "for j in range(len(elite8)):\n",
    "    for i in predicted_winners: \n",
    "        if j == i: \n",
    "            predicted_teams.append(elite8['TEAM'][j])\n",
    "print('confusion matrix: \\n', metrics.confusion_matrix(y_Test, y_pred))  \n",
    "print()\n",
    "print('teams that were predicted:\\n', predicted_teams)"
   ]
  },
  {
   "cell_type": "code",
   "execution_count": null,
   "id": "ae2c112c",
   "metadata": {},
   "outputs": [],
   "source": []
  }
 ],
 "metadata": {
  "kernelspec": {
   "display_name": "Python 3 (ipykernel)",
   "language": "python",
   "name": "python3"
  },
  "language_info": {
   "codemirror_mode": {
    "name": "ipython",
    "version": 3
   },
   "file_extension": ".py",
   "mimetype": "text/x-python",
   "name": "python",
   "nbconvert_exporter": "python",
   "pygments_lexer": "ipython3",
   "version": "3.9.12"
  }
 },
 "nbformat": 4,
 "nbformat_minor": 5
}
